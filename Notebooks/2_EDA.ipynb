{
 "cells": [
  {
   "cell_type": "code",
   "execution_count": 65,
   "id": "65e8060a",
   "metadata": {},
   "outputs": [],
   "source": [
    "import pandas as pd\n",
    "import numpy as np\n",
    "import seaborn as sns\n",
    "import matplotlib.pyplot as plt\n"
   ]
  },
  {
   "cell_type": "code",
   "execution_count": 4,
   "id": "ee77ed93",
   "metadata": {},
   "outputs": [],
   "source": [
    "# Load and combine yelp data\n",
    "yelp_test = pd.read_csv('../CSVs/yelp_test.csv',header=None,names=['sentiment','review'])\n",
    "yelp_train =  pd.read_csv('../CSVs/yelp_train.csv',header=None,names=['sentiment','review'])\n",
    "yelp = pd.concat([yelp_test, yelp_train])"
   ]
  },
  {
   "cell_type": "code",
   "execution_count": 19,
   "id": "1b324d90",
   "metadata": {},
   "outputs": [
    {
     "data": {
      "text/html": [
       "<div>\n",
       "<style scoped>\n",
       "    .dataframe tbody tr th:only-of-type {\n",
       "        vertical-align: middle;\n",
       "    }\n",
       "\n",
       "    .dataframe tbody tr th {\n",
       "        vertical-align: top;\n",
       "    }\n",
       "\n",
       "    .dataframe thead th {\n",
       "        text-align: right;\n",
       "    }\n",
       "</style>\n",
       "<table border=\"1\" class=\"dataframe\">\n",
       "  <thead>\n",
       "    <tr style=\"text-align: right;\">\n",
       "      <th></th>\n",
       "      <th>sentiment</th>\n",
       "      <th>review</th>\n",
       "    </tr>\n",
       "  </thead>\n",
       "  <tbody>\n",
       "    <tr>\n",
       "      <th>0</th>\n",
       "      <td>2</td>\n",
       "      <td>Contrary to other reviews, I have zero complai...</td>\n",
       "    </tr>\n",
       "    <tr>\n",
       "      <th>1</th>\n",
       "      <td>1</td>\n",
       "      <td>Last summer I had an appointment to get new ti...</td>\n",
       "    </tr>\n",
       "    <tr>\n",
       "      <th>2</th>\n",
       "      <td>2</td>\n",
       "      <td>Friendly staff, same starbucks fair you get an...</td>\n",
       "    </tr>\n",
       "    <tr>\n",
       "      <th>3</th>\n",
       "      <td>1</td>\n",
       "      <td>The food is good. Unfortunately the service is...</td>\n",
       "    </tr>\n",
       "    <tr>\n",
       "      <th>4</th>\n",
       "      <td>2</td>\n",
       "      <td>Even when we didn't have a car Filene's Baseme...</td>\n",
       "    </tr>\n",
       "  </tbody>\n",
       "</table>\n",
       "</div>"
      ],
      "text/plain": [
       "   sentiment                                             review\n",
       "0          2  Contrary to other reviews, I have zero complai...\n",
       "1          1  Last summer I had an appointment to get new ti...\n",
       "2          2  Friendly staff, same starbucks fair you get an...\n",
       "3          1  The food is good. Unfortunately the service is...\n",
       "4          2  Even when we didn't have a car Filene's Baseme..."
      ]
     },
     "execution_count": 19,
     "metadata": {},
     "output_type": "execute_result"
    }
   ],
   "source": [
    "yelp.head()"
   ]
  },
  {
   "cell_type": "code",
   "execution_count": null,
   "id": "eb6a5a5c",
   "metadata": {},
   "outputs": [],
   "source": [
    "# Load imdb data\n",
    "imdb = pd.read_csv('../CSVs/IMDB Dataset.csv')"
   ]
  },
  {
   "cell_type": "code",
   "execution_count": 20,
   "id": "512b581c",
   "metadata": {},
   "outputs": [
    {
     "data": {
      "text/html": [
       "<div>\n",
       "<style scoped>\n",
       "    .dataframe tbody tr th:only-of-type {\n",
       "        vertical-align: middle;\n",
       "    }\n",
       "\n",
       "    .dataframe tbody tr th {\n",
       "        vertical-align: top;\n",
       "    }\n",
       "\n",
       "    .dataframe thead th {\n",
       "        text-align: right;\n",
       "    }\n",
       "</style>\n",
       "<table border=\"1\" class=\"dataframe\">\n",
       "  <thead>\n",
       "    <tr style=\"text-align: right;\">\n",
       "      <th></th>\n",
       "      <th>review</th>\n",
       "      <th>sentiment</th>\n",
       "    </tr>\n",
       "  </thead>\n",
       "  <tbody>\n",
       "    <tr>\n",
       "      <th>0</th>\n",
       "      <td>One of the other reviewers has mentioned that ...</td>\n",
       "      <td>positive</td>\n",
       "    </tr>\n",
       "    <tr>\n",
       "      <th>1</th>\n",
       "      <td>A wonderful little production. &lt;br /&gt;&lt;br /&gt;The...</td>\n",
       "      <td>positive</td>\n",
       "    </tr>\n",
       "    <tr>\n",
       "      <th>2</th>\n",
       "      <td>I thought this was a wonderful way to spend ti...</td>\n",
       "      <td>positive</td>\n",
       "    </tr>\n",
       "    <tr>\n",
       "      <th>3</th>\n",
       "      <td>Basically there's a family where a little boy ...</td>\n",
       "      <td>negative</td>\n",
       "    </tr>\n",
       "    <tr>\n",
       "      <th>4</th>\n",
       "      <td>Petter Mattei's \"Love in the Time of Money\" is...</td>\n",
       "      <td>positive</td>\n",
       "    </tr>\n",
       "  </tbody>\n",
       "</table>\n",
       "</div>"
      ],
      "text/plain": [
       "                                              review sentiment\n",
       "0  One of the other reviewers has mentioned that ...  positive\n",
       "1  A wonderful little production. <br /><br />The...  positive\n",
       "2  I thought this was a wonderful way to spend ti...  positive\n",
       "3  Basically there's a family where a little boy ...  negative\n",
       "4  Petter Mattei's \"Love in the Time of Money\" is...  positive"
      ]
     },
     "execution_count": 20,
     "metadata": {},
     "output_type": "execute_result"
    }
   ],
   "source": [
    "imdb.head()"
   ]
  },
  {
   "cell_type": "code",
   "execution_count": 16,
   "id": "999ef7eb",
   "metadata": {},
   "outputs": [
    {
     "data": {
      "text/plain": [
       "review       0\n",
       "sentiment    0\n",
       "dtype: int64"
      ]
     },
     "execution_count": 16,
     "metadata": {},
     "output_type": "execute_result"
    }
   ],
   "source": [
    "# Check for no null data before using if/else\n",
    "imdb.isna().sum()"
   ]
  },
  {
   "cell_type": "code",
   "execution_count": 18,
   "id": "f74d8c18",
   "metadata": {},
   "outputs": [
    {
     "data": {
      "text/plain": [
       "array(['positive', 'negative'], dtype=object)"
      ]
     },
     "execution_count": 18,
     "metadata": {},
     "output_type": "execute_result"
    }
   ],
   "source": [
    "imdb['sentiment'].unique()"
   ]
  },
  {
   "cell_type": "code",
   "execution_count": 21,
   "id": "8d44c14f",
   "metadata": {},
   "outputs": [
    {
     "data": {
      "text/html": [
       "<div>\n",
       "<style scoped>\n",
       "    .dataframe tbody tr th:only-of-type {\n",
       "        vertical-align: middle;\n",
       "    }\n",
       "\n",
       "    .dataframe tbody tr th {\n",
       "        vertical-align: top;\n",
       "    }\n",
       "\n",
       "    .dataframe thead th {\n",
       "        text-align: right;\n",
       "    }\n",
       "</style>\n",
       "<table border=\"1\" class=\"dataframe\">\n",
       "  <thead>\n",
       "    <tr style=\"text-align: right;\">\n",
       "      <th></th>\n",
       "      <th>review</th>\n",
       "      <th>sentiment</th>\n",
       "    </tr>\n",
       "  </thead>\n",
       "  <tbody>\n",
       "    <tr>\n",
       "      <th>0</th>\n",
       "      <td>One of the other reviewers has mentioned that ...</td>\n",
       "      <td>2</td>\n",
       "    </tr>\n",
       "    <tr>\n",
       "      <th>1</th>\n",
       "      <td>A wonderful little production. &lt;br /&gt;&lt;br /&gt;The...</td>\n",
       "      <td>2</td>\n",
       "    </tr>\n",
       "    <tr>\n",
       "      <th>2</th>\n",
       "      <td>I thought this was a wonderful way to spend ti...</td>\n",
       "      <td>2</td>\n",
       "    </tr>\n",
       "    <tr>\n",
       "      <th>3</th>\n",
       "      <td>Basically there's a family where a little boy ...</td>\n",
       "      <td>1</td>\n",
       "    </tr>\n",
       "    <tr>\n",
       "      <th>4</th>\n",
       "      <td>Petter Mattei's \"Love in the Time of Money\" is...</td>\n",
       "      <td>2</td>\n",
       "    </tr>\n",
       "  </tbody>\n",
       "</table>\n",
       "</div>"
      ],
      "text/plain": [
       "                                              review  sentiment\n",
       "0  One of the other reviewers has mentioned that ...          2\n",
       "1  A wonderful little production. <br /><br />The...          2\n",
       "2  I thought this was a wonderful way to spend ti...          2\n",
       "3  Basically there's a family where a little boy ...          1\n",
       "4  Petter Mattei's \"Love in the Time of Money\" is...          2"
      ]
     },
     "execution_count": 21,
     "metadata": {},
     "output_type": "execute_result"
    }
   ],
   "source": [
    "# Change form to match other two datasets\n",
    "imdb['sentiment'] = imdb['sentiment'].apply(lambda x: 2 if x=='positive' else 1)\n",
    "imdb.head()"
   ]
  },
  {
   "cell_type": "code",
   "execution_count": 12,
   "id": "a8160513",
   "metadata": {},
   "outputs": [],
   "source": [
    "# Load and combine Amazon data\n",
    "amazon_test = pd.read_csv('../CSVs/amazon_test_processed.txt',sep='\\t',header=None,names=['sentiment','review'])\n",
    "amazon_train = pd.read_csv('../CSVs/amazon_train_processed.txt',sep='\\t',header=None,names=['sentiment','review'])\n",
    "amazon = pd.concat([amazon_test,amazon_train])"
   ]
  },
  {
   "cell_type": "code",
   "execution_count": 22,
   "id": "ed43d42b",
   "metadata": {},
   "outputs": [
    {
     "data": {
      "text/html": [
       "<div>\n",
       "<style scoped>\n",
       "    .dataframe tbody tr th:only-of-type {\n",
       "        vertical-align: middle;\n",
       "    }\n",
       "\n",
       "    .dataframe tbody tr th {\n",
       "        vertical-align: top;\n",
       "    }\n",
       "\n",
       "    .dataframe thead th {\n",
       "        text-align: right;\n",
       "    }\n",
       "</style>\n",
       "<table border=\"1\" class=\"dataframe\">\n",
       "  <thead>\n",
       "    <tr style=\"text-align: right;\">\n",
       "      <th></th>\n",
       "      <th>sentiment</th>\n",
       "      <th>review</th>\n",
       "    </tr>\n",
       "  </thead>\n",
       "  <tbody>\n",
       "    <tr>\n",
       "      <th>0</th>\n",
       "      <td>2</td>\n",
       "      <td>Great CD: My lovely Pat has one of the GREAT v...</td>\n",
       "    </tr>\n",
       "    <tr>\n",
       "      <th>1</th>\n",
       "      <td>2</td>\n",
       "      <td>One of the best game music soundtracks - for a...</td>\n",
       "    </tr>\n",
       "    <tr>\n",
       "      <th>2</th>\n",
       "      <td>1</td>\n",
       "      <td>Batteries died within a year ...: I bought thi...</td>\n",
       "    </tr>\n",
       "    <tr>\n",
       "      <th>3</th>\n",
       "      <td>2</td>\n",
       "      <td>works fine, but Maha Energy is better: Check o...</td>\n",
       "    </tr>\n",
       "    <tr>\n",
       "      <th>4</th>\n",
       "      <td>2</td>\n",
       "      <td>Great for the non-audiophile: Reviewed quite a...</td>\n",
       "    </tr>\n",
       "  </tbody>\n",
       "</table>\n",
       "</div>"
      ],
      "text/plain": [
       "   sentiment                                             review\n",
       "0          2  Great CD: My lovely Pat has one of the GREAT v...\n",
       "1          2  One of the best game music soundtracks - for a...\n",
       "2          1  Batteries died within a year ...: I bought thi...\n",
       "3          2  works fine, but Maha Energy is better: Check o...\n",
       "4          2  Great for the non-audiophile: Reviewed quite a..."
      ]
     },
     "execution_count": 22,
     "metadata": {},
     "output_type": "execute_result"
    }
   ],
   "source": [
    "amazon.head()"
   ]
  },
  {
   "cell_type": "code",
   "execution_count": 96,
   "id": "cbd26ad2",
   "metadata": {},
   "outputs": [
    {
     "data": {
      "image/png": "[encoded data removed]",
      "text/plain": [
       "<Figure size 640x480 with 1 Axes>"
      ]
     },
     "metadata": {},
     "output_type": "display_data"
    }
   ],
   "source": [
    "sns.countplot(x='source',data=words)\n",
    "plt.title('Reviews per source')\n",
    "plt.xlabel('Data source')\n",
    "plt.ylabel('Number of reviews (millions)')\n",
    "plt.show()"
   ]
  },
  {
   "cell_type": "markdown",
   "id": "e6dd4814",
   "metadata": {},
   "source": [
    "Here we can see that the number of Amazon reviews dwarfs the reviews form either of the other datasets. "
   ]
  },
  {
   "cell_type": "code",
   "execution_count": 27,
   "id": "d6b73520",
   "metadata": {},
   "outputs": [],
   "source": [
    "def analyze(name, reviews):\n",
    "    '''Determines the total number of reviews for each dataset\n",
    "    and the percentage that is positive'''\n",
    "    length = len(reviews)\n",
    "    positive = len(reviews[reviews['sentiment'] == 2])\n",
    "    print(f'The {name} dataset contains {len(reviews)} reviews, \\\n",
    "of which {positive} are positive ({round(positive/length*100, 2)}%)')"
   ]
  },
  {
   "cell_type": "code",
   "execution_count": 28,
   "id": "4efc6906",
   "metadata": {},
   "outputs": [
    {
     "name": "stdout",
     "output_type": "stream",
     "text": [
      "The Yelp dataset contains 598000 reviews, of which 299000 are positive (50.0%)\n",
      "The IMDB dataset contains 50000 reviews, of which 25000 are positive (50.0%)\n",
      "The Amazon dataset contains 3999612 reviews, of which 1999805 are positive (50.0%)\n"
     ]
    }
   ],
   "source": [
    "analyze('Yelp',yelp)\n",
    "analyze('IMDB', imdb)\n",
    "analyze('Amazon',amazon)"
   ]
  },
  {
   "cell_type": "markdown",
   "id": "9f56883d",
   "metadata": {},
   "source": [
    "It appears that each of the three datasets is perfectly balanced, with exactly half positive reivews and half negative, with an error of at most 1 review out of nearly 4 million. "
   ]
  },
  {
   "cell_type": "code",
   "execution_count": 40,
   "id": "d1b2a6b9",
   "metadata": {},
   "outputs": [],
   "source": [
    "def wordcount(reviews):\n",
    "    '''Returns a number of words for each review'''\n",
    "    return reviews['review'].apply(lambda x: len(x.split()))"
   ]
  },
  {
   "cell_type": "code",
   "execution_count": 66,
   "id": "52a4b51d",
   "metadata": {},
   "outputs": [],
   "source": [
    "def review_lengths(name, reviews):\n",
    "    '''Finds statistics on the length (in words) of each review'''\n",
    "    words = wordcount(reviews)\n",
    "    positive_words = wordcount(reviews[reviews['sentiment'] == 2])\n",
    "    negative_words = wordcount(reviews[reviews['sentiment'] == 1])\n",
    "    print(f'The average review in the {name} dataset contains {round(words.mean(),1)} words, \\\n",
    "with a standard deviation of {round(words.std(),1)}.')\n",
    "    print(f'The average positive review is {round(positive_words.mean(),1)} words long, \\\n",
    "(s.d. {round(positive_words.std(), 1)}) while the average negative comment is \\\n",
    "{round(negative_words.mean(),1)} words (s.d. {round(negative_words.std(),1)}).')\n",
    "    print(f'The longest comment has {words.max()} words, and the shortest has only {words.min()}.')\n",
    "    print(f'There are {len(words[words==words.min()])} reviews of length {words.min()}. Here is a sample: ')\n",
    "    print(reviews[words==words.min()].head())\n",
    "    return words"
   ]
  },
  {
   "cell_type": "code",
   "execution_count": 74,
   "id": "a39d4493",
   "metadata": {},
   "outputs": [
    {
     "name": "stdout",
     "output_type": "stream",
     "text": [
      "The average review in the yelp dataset contains 133.0 words, with a standard deviation of 122.5.\n",
      "The average positive review is 114.5 words long, (s.d. 104.6) while the average negative comment is 151.5 words (s.d. 135.6).\n",
      "The longest comment has 1052 words, and the shortest has only 1.\n",
      "There are 321 reviews of length 1. Here is a sample: \n",
      "      sentiment    review\n",
      "705           2   Decent!\n",
      "2309          1    Closed\n",
      "2612          1  terrible\n",
      "4409          2  Delycios\n",
      "6301          2  Mojitos.\n"
     ]
    }
   ],
   "source": [
    "yelp_words = pd.DataFrame(review_lengths('yelp',yelp))\n",
    "yelp_words['source'] = 'yelp'"
   ]
  },
  {
   "cell_type": "markdown",
   "id": "60c654ea",
   "metadata": {},
   "source": [
    "From the above, we can see that Yelp has hundreds of 1-word reviews, while as we see below, neither of the other data sources have any. Perhaps this is from a content moderation policy on the other two sites. "
   ]
  },
  {
   "cell_type": "code",
   "execution_count": 76,
   "id": "a16c0120",
   "metadata": {},
   "outputs": [
    {
     "name": "stdout",
     "output_type": "stream",
     "text": [
      "The average review in the imdb dataset contains 231.2 words, with a standard deviation of 171.3.\n",
      "The average positive review is 232.8 words long, (s.d. 177.5) while the average negative comment is 229.5 words (s.d. 164.9).\n",
      "The longest comment has 2470 words, and the shortest has only 4.\n",
      "There are 1 reviews of length 4. Here is a sample: \n",
      "                                                  review  sentiment\n",
      "28920  Primary plot!Primary direction!Poor interpreta...          1\n"
     ]
    }
   ],
   "source": [
    "imdb_words = pd.DataFrame(review_lengths('imdb',imdb))\n",
    "imdb_words['source'] = 'imdb'"
   ]
  },
  {
   "cell_type": "markdown",
   "id": "788f1f2c",
   "metadata": {},
   "source": [
    "The above review actually appears to have 6 words, not 4, but the user did not use a space after punctuation. This could potentially be a problem. "
   ]
  },
  {
   "cell_type": "code",
   "execution_count": 77,
   "id": "2ca9331f",
   "metadata": {},
   "outputs": [
    {
     "name": "stdout",
     "output_type": "stream",
     "text": [
      "The average review in the amazon dataset contains 78.5 words, with a standard deviation of 42.9.\n",
      "The average positive review is 75.5 words long, (s.d. 42.9) while the average negative comment is 81.5 words (s.d. 42.6).\n",
      "The longest comment has 1833 words, and the shortest has only 2.\n",
      "There are 4 reviews of length 2. Here is a sample: \n",
      "         sentiment                                             review\n",
      "567122           2  Great: TeTerriffic!Terriffic!Terriffic!Terriff...\n",
      "759135           1  Disappointing: Thisis.the.very.first.book.by.h...\n",
      "1373881          1  booo: booooooooooooooooooooooooooooooooooooooo...\n",
      "2014826          1  hahahaha........hahahahaha: hahahahahaha.........\n"
     ]
    }
   ],
   "source": [
    "amazon_words = pd.DataFrame(review_lengths('amazon',amazon))\n",
    "amazon_words['source'] = 'amazon'"
   ]
  },
  {
   "cell_type": "markdown",
   "id": "48b8b6d2",
   "metadata": {},
   "source": [
    "Once again, the so-called \"2-word\" reviews are made up of more than 2 words seperated by punctuation rather than spaces. It seems plausible that reviews in this dataset had a minimum number of characters, rather than words, or that the software counting the words recognized punctuation as a separator. This minimum may have been imposed either by the site itself on its users, or by the people who extracted the data for sentiment analysis. No such restriction appears to exist on Yelp."
   ]
  },
  {
   "cell_type": "code",
   "execution_count": 78,
   "id": "0c972839",
   "metadata": {},
   "outputs": [],
   "source": [
    "words = pd.concat([yelp_words, imdb_words, amazon_words])"
   ]
  },
  {
   "cell_type": "code",
   "execution_count": 80,
   "id": "d779d9ef",
   "metadata": {},
   "outputs": [
    {
     "data": {
      "text/html": [
       "<div>\n",
       "<style scoped>\n",
       "    .dataframe tbody tr th:only-of-type {\n",
       "        vertical-align: middle;\n",
       "    }\n",
       "\n",
       "    .dataframe tbody tr th {\n",
       "        vertical-align: top;\n",
       "    }\n",
       "\n",
       "    .dataframe thead th {\n",
       "        text-align: right;\n",
       "    }\n",
       "</style>\n",
       "<table border=\"1\" class=\"dataframe\">\n",
       "  <thead>\n",
       "    <tr style=\"text-align: right;\">\n",
       "      <th></th>\n",
       "      <th>review</th>\n",
       "      <th>source</th>\n",
       "    </tr>\n",
       "  </thead>\n",
       "  <tbody>\n",
       "    <tr>\n",
       "      <th>0</th>\n",
       "      <td>126</td>\n",
       "      <td>yelp</td>\n",
       "    </tr>\n",
       "    <tr>\n",
       "      <th>1</th>\n",
       "      <td>71</td>\n",
       "      <td>yelp</td>\n",
       "    </tr>\n",
       "    <tr>\n",
       "      <th>2</th>\n",
       "      <td>15</td>\n",
       "      <td>yelp</td>\n",
       "    </tr>\n",
       "    <tr>\n",
       "      <th>3</th>\n",
       "      <td>53</td>\n",
       "      <td>yelp</td>\n",
       "    </tr>\n",
       "    <tr>\n",
       "      <th>4</th>\n",
       "      <td>138</td>\n",
       "      <td>yelp</td>\n",
       "    </tr>\n",
       "  </tbody>\n",
       "</table>\n",
       "</div>"
      ],
      "text/plain": [
       "   review source\n",
       "0     126   yelp\n",
       "1      71   yelp\n",
       "2      15   yelp\n",
       "3      53   yelp\n",
       "4     138   yelp"
      ]
     },
     "execution_count": 80,
     "metadata": {},
     "output_type": "execute_result"
    }
   ],
   "source": [
    "words.head()"
   ]
  },
  {
   "cell_type": "code",
   "execution_count": 87,
   "id": "29b61e97",
   "metadata": {},
   "outputs": [
    {
     "data": {
      "image/png": "[encoded data removed]",
      "text/plain": [
       "<Figure size 640x480 with 1 Axes>"
      ]
     },
     "metadata": {},
     "output_type": "display_data"
    }
   ],
   "source": [
    "sns.boxplot(x='source',y='review',data=words)\n",
    "plt.title('Wordcount by source')\n",
    "plt.ylabel('Words per review')\n",
    "plt.xlabel('Data source')\n",
    "plt.show()"
   ]
  },
  {
   "cell_type": "markdown",
   "id": "84821546",
   "metadata": {},
   "source": [
    "The boxplot shows that most of the reviews sit in a very narrow range in the low hundreds of words, with Amazon having the shortest reviews overall and IMDB having the longest. Many high-wordcount outliers exist for each source, with Yelp having the least extreme outliers (rarely over one thousand words) and IMDB having the most extreme, with a few in the two thousands. "
   ]
  }
 ],
 "metadata": {
  "kernelspec": {
   "display_name": "Python 3 (ipykernel)",
   "language": "python",
   "name": "python3"
  },
  "language_info": {
   "codemirror_mode": {
    "name": "ipython",
    "version": 3
   },
   "file_extension": ".py",
   "mimetype": "text/x-python",
   "name": "python",
   "nbconvert_exporter": "python",
   "pygments_lexer": "ipython3",
   "version": "3.11.5"
  }
 },
 "nbformat": 4,
 "nbformat_minor": 5
}
